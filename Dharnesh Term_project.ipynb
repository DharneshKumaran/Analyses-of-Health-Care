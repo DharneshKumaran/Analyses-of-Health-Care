{
 "cells": [
  {
   "cell_type": "markdown",
   "metadata": {
    "application/vnd.databricks.v1+cell": {
     "cellMetadata": {
      "byteLimit": 2048000,
      "rowLimit": 10000
     },
     "inputWidgets": {},
     "nuid": "dffbc13e-d797-4802-a3c3-3d9db84e056f",
     "showTitle": false,
     "title": ""
    }
   },
   "source": [
    "## Module 6 Lab.A - Regression Model Using Spark ML Pipeline\n",
    "In this analysis we will use the automabile dataset available on UCI ML repository. Our goal is to predict the MPG using variables such as HP, cylinder, and brand(ford, toyota, etc.)"
   ]
  },
  {
   "cell_type": "markdown",
   "metadata": {
    "application/vnd.databricks.v1+cell": {
     "cellMetadata": {
      "byteLimit": 2048000,
      "rowLimit": 10000
     },
     "inputWidgets": {},
     "nuid": "4f34af8e-0da7-4ce0-9367-fbaeff0f2389",
     "showTitle": false,
     "title": ""
    }
   },
   "source": [
    "#### 1. Read Data\n",
    "First things first - let's read the data using the SQL module available in SPARK. \n",
    "Then, we might need to inspect the data"
   ]
  },
  {
   "cell_type": "code",
   "execution_count": 0,
   "metadata": {
    "application/vnd.databricks.v1+cell": {
     "cellMetadata": {
      "byteLimit": 2048000,
      "rowLimit": 10000
     },
     "inputWidgets": {},
     "nuid": "5b7efb3e-9d6a-4bbd-8117-3db55c9cf0b0",
     "showTitle": false,
     "title": ""
    }
   },
   "outputs": [],
   "source": [
    "# This will create the sql context to read data and read the data and save it as spark_df\n",
    "from pyspark.sql import SQLContext\n",
    "sqlContext = SQLContext(sc)\n",
    "spark_df = sqlContext.sql(\"Select * from insurance\")"
   ]
  },
  {
   "cell_type": "markdown",
   "metadata": {
    "application/vnd.databricks.v1+cell": {
     "cellMetadata": {
      "byteLimit": 2048000,
      "rowLimit": 10000
     },
     "inputWidgets": {},
     "nuid": "ee662951-2a30-4ecd-b6c1-603f257aef03",
     "showTitle": false,
     "title": ""
    }
   },
   "source": [
    "#### 2. Define Target"
   ]
  },
  {
   "cell_type": "code",
   "execution_count": 0,
   "metadata": {
    "application/vnd.databricks.v1+cell": {
     "cellMetadata": {
      "byteLimit": 2048000,
      "rowLimit": 10000
     },
     "inputWidgets": {},
     "nuid": "0d7c3da2-b26e-49a3-a831-21ef1a23c6ae",
     "showTitle": false,
     "title": ""
    }
   },
   "outputs": [],
   "source": [
    "target = 'charges' # dependent variable in our dataset"
   ]
  },
  {
   "cell_type": "markdown",
   "metadata": {
    "application/vnd.databricks.v1+cell": {
     "cellMetadata": {
      "byteLimit": 2048000,
      "rowLimit": 10000
     },
     "inputWidgets": {},
     "nuid": "c300ffc8-3b5d-4e66-9c2c-bd76b08dac5e",
     "showTitle": false,
     "title": ""
    }
   },
   "source": [
    "#### 3. Check the Dataset"
   ]
  },
  {
   "cell_type": "code",
   "execution_count": 0,
   "metadata": {
    "application/vnd.databricks.v1+cell": {
     "cellMetadata": {
      "byteLimit": 2048000,
      "rowLimit": 10000
     },
     "inputWidgets": {},
     "nuid": "8d5ebadf-b1f3-4635-bea6-a8daa832eef6",
     "showTitle": false,
     "title": ""
    }
   },
   "outputs": [
    {
     "output_type": "display_data",
     "data": {
      "text/html": [
       "<div>\n",
       "<style scoped>\n",
       "    .dataframe tbody tr th:only-of-type {\n",
       "        vertical-align: middle;\n",
       "    }\n",
       "\n",
       "    .dataframe tbody tr th {\n",
       "        vertical-align: top;\n",
       "    }\n",
       "\n",
       "    .dataframe thead th {\n",
       "        text-align: right;\n",
       "    }\n",
       "</style>\n",
       "<table border=\"1\" class=\"dataframe\">\n",
       "  <thead>\n",
       "    <tr style=\"text-align: right;\">\n",
       "      <th></th>\n",
       "      <th>summary</th>\n",
       "      <th>age</th>\n",
       "      <th>sex</th>\n",
       "      <th>bmi</th>\n",
       "      <th>children</th>\n",
       "      <th>smoker</th>\n",
       "      <th>region</th>\n",
       "      <th>charges</th>\n",
       "    </tr>\n",
       "  </thead>\n",
       "  <tbody>\n",
       "    <tr>\n",
       "      <th>0</th>\n",
       "      <td>count</td>\n",
       "      <td>1338</td>\n",
       "      <td>1338</td>\n",
       "      <td>1338</td>\n",
       "      <td>1338</td>\n",
       "      <td>1338</td>\n",
       "      <td>1338</td>\n",
       "      <td>1338</td>\n",
       "    </tr>\n",
       "    <tr>\n",
       "      <th>1</th>\n",
       "      <td>mean</td>\n",
       "      <td>39.20702541106129</td>\n",
       "      <td>None</td>\n",
       "      <td>30.663396860986538</td>\n",
       "      <td>1.0949177877429</td>\n",
       "      <td>None</td>\n",
       "      <td>None</td>\n",
       "      <td>13270.422265141257</td>\n",
       "    </tr>\n",
       "    <tr>\n",
       "      <th>2</th>\n",
       "      <td>stddev</td>\n",
       "      <td>14.049960379216147</td>\n",
       "      <td>None</td>\n",
       "      <td>6.098186911679012</td>\n",
       "      <td>1.205492739781914</td>\n",
       "      <td>None</td>\n",
       "      <td>None</td>\n",
       "      <td>12110.011236693992</td>\n",
       "    </tr>\n",
       "    <tr>\n",
       "      <th>3</th>\n",
       "      <td>min</td>\n",
       "      <td>18</td>\n",
       "      <td>female</td>\n",
       "      <td>15.96</td>\n",
       "      <td>0</td>\n",
       "      <td>no</td>\n",
       "      <td>northeast</td>\n",
       "      <td>1121.8739</td>\n",
       "    </tr>\n",
       "    <tr>\n",
       "      <th>4</th>\n",
       "      <td>max</td>\n",
       "      <td>64</td>\n",
       "      <td>male</td>\n",
       "      <td>53.13</td>\n",
       "      <td>5</td>\n",
       "      <td>yes</td>\n",
       "      <td>southwest</td>\n",
       "      <td>63770.42801</td>\n",
       "    </tr>\n",
       "  </tbody>\n",
       "</table>\n",
       "</div>"
      ]
     },
     "metadata": {
      "application/vnd.databricks.v1+output": {
       "addedWidgets": {},
       "arguments": {},
       "data": "<div>\n<style scoped>\n    .dataframe tbody tr th:only-of-type {\n        vertical-align: middle;\n    }\n\n    .dataframe tbody tr th {\n        vertical-align: top;\n    }\n\n    .dataframe thead th {\n        text-align: right;\n    }\n</style>\n<table border=\"1\" class=\"dataframe\">\n  <thead>\n    <tr style=\"text-align: right;\">\n      <th></th>\n      <th>summary</th>\n      <th>age</th>\n      <th>sex</th>\n      <th>bmi</th>\n      <th>children</th>\n      <th>smoker</th>\n      <th>region</th>\n      <th>charges</th>\n    </tr>\n  </thead>\n  <tbody>\n    <tr>\n      <th>0</th>\n      <td>count</td>\n      <td>1338</td>\n      <td>1338</td>\n      <td>1338</td>\n      <td>1338</td>\n      <td>1338</td>\n      <td>1338</td>\n      <td>1338</td>\n    </tr>\n    <tr>\n      <th>1</th>\n      <td>mean</td>\n      <td>39.20702541106129</td>\n      <td>None</td>\n      <td>30.663396860986538</td>\n      <td>1.0949177877429</td>\n      <td>None</td>\n      <td>None</td>\n      <td>13270.422265141257</td>\n    </tr>\n    <tr>\n      <th>2</th>\n      <td>stddev</td>\n      <td>14.049960379216147</td>\n      <td>None</td>\n      <td>6.098186911679012</td>\n      <td>1.205492739781914</td>\n      <td>None</td>\n      <td>None</td>\n      <td>12110.011236693992</td>\n    </tr>\n    <tr>\n      <th>3</th>\n      <td>min</td>\n      <td>18</td>\n      <td>female</td>\n      <td>15.96</td>\n      <td>0</td>\n      <td>no</td>\n      <td>northeast</td>\n      <td>1121.8739</td>\n    </tr>\n    <tr>\n      <th>4</th>\n      <td>max</td>\n      <td>64</td>\n      <td>male</td>\n      <td>53.13</td>\n      <td>5</td>\n      <td>yes</td>\n      <td>southwest</td>\n      <td>63770.42801</td>\n    </tr>\n  </tbody>\n</table>\n</div>",
       "datasetInfos": [],
       "metadata": {},
       "removedWidgets": [],
       "textData": null,
       "type": "htmlSandbox"
      }
     },
     "output_type": "display_data"
    }
   ],
   "source": [
    "summary = spark_df.describe().toPandas() # describes the dataset and displays the result as pandas dataframe (not spark dataframe)\n",
    "summary"
   ]
  },
  {
   "cell_type": "code",
   "execution_count": 0,
   "metadata": {
    "application/vnd.databricks.v1+cell": {
     "cellMetadata": {
      "byteLimit": 2048000,
      "rowLimit": 10000
     },
     "inputWidgets": {},
     "nuid": "a7923cd7-b20f-4c15-839f-d1aaa56ddb1a",
     "showTitle": false,
     "title": ""
    }
   },
   "outputs": [
    {
     "output_type": "display_data",
     "data": {
      "application/vnd.databricks.v1+bamboolib_hint": "{\"pd.DataFrames\": [\"summary\"], \"version\": \"0.0.1\"}",
      "text/plain": []
     },
     "metadata": {},
     "output_type": "display_data"
    },
    {
     "output_type": "stream",
     "name": "stdout",
     "output_type": "stream",
     "text": [
      "[0, 0, 0, 0, 0, 0, 0]\n['null_count', 0, 0, 0, 0, 0, 0, 0]\n"
     ]
    },
    {
     "output_type": "stream",
     "name": "stderr",
     "output_type": "stream",
     "text": [
      "<command-3520664774981878>:9: FutureWarning: The frame.append method is deprecated and will be removed from pandas in a future version. Use pandas.concat instead.\n  summary = summary.append(null_list) # merge it w/ summary dataframe defned above\n"
     ]
    },
    {
     "output_type": "display_data",
     "data": {
      "text/html": [
       "<div>\n",
       "<style scoped>\n",
       "    .dataframe tbody tr th:only-of-type {\n",
       "        vertical-align: middle;\n",
       "    }\n",
       "\n",
       "    .dataframe tbody tr th {\n",
       "        vertical-align: top;\n",
       "    }\n",
       "\n",
       "    .dataframe thead th {\n",
       "        text-align: right;\n",
       "    }\n",
       "</style>\n",
       "<table border=\"1\" class=\"dataframe\">\n",
       "  <thead>\n",
       "    <tr style=\"text-align: right;\">\n",
       "      <th></th>\n",
       "      <th>age</th>\n",
       "      <th>sex</th>\n",
       "      <th>bmi</th>\n",
       "      <th>children</th>\n",
       "      <th>smoker</th>\n",
       "      <th>region</th>\n",
       "      <th>charges</th>\n",
       "    </tr>\n",
       "    <tr>\n",
       "      <th>summary</th>\n",
       "      <th></th>\n",
       "      <th></th>\n",
       "      <th></th>\n",
       "      <th></th>\n",
       "      <th></th>\n",
       "      <th></th>\n",
       "      <th></th>\n",
       "    </tr>\n",
       "  </thead>\n",
       "  <tbody>\n",
       "    <tr>\n",
       "      <th>count</th>\n",
       "      <td>1338</td>\n",
       "      <td>1338</td>\n",
       "      <td>1338</td>\n",
       "      <td>1338</td>\n",
       "      <td>1338</td>\n",
       "      <td>1338</td>\n",
       "      <td>1338</td>\n",
       "    </tr>\n",
       "    <tr>\n",
       "      <th>mean</th>\n",
       "      <td>39.20702541106129</td>\n",
       "      <td>None</td>\n",
       "      <td>30.663396860986538</td>\n",
       "      <td>1.0949177877429</td>\n",
       "      <td>None</td>\n",
       "      <td>None</td>\n",
       "      <td>13270.422265141257</td>\n",
       "    </tr>\n",
       "    <tr>\n",
       "      <th>stddev</th>\n",
       "      <td>14.049960379216147</td>\n",
       "      <td>None</td>\n",
       "      <td>6.098186911679012</td>\n",
       "      <td>1.205492739781914</td>\n",
       "      <td>None</td>\n",
       "      <td>None</td>\n",
       "      <td>12110.011236693992</td>\n",
       "    </tr>\n",
       "    <tr>\n",
       "      <th>min</th>\n",
       "      <td>18</td>\n",
       "      <td>female</td>\n",
       "      <td>15.96</td>\n",
       "      <td>0</td>\n",
       "      <td>no</td>\n",
       "      <td>northeast</td>\n",
       "      <td>1121.8739</td>\n",
       "    </tr>\n",
       "    <tr>\n",
       "      <th>max</th>\n",
       "      <td>64</td>\n",
       "      <td>male</td>\n",
       "      <td>53.13</td>\n",
       "      <td>5</td>\n",
       "      <td>yes</td>\n",
       "      <td>southwest</td>\n",
       "      <td>63770.42801</td>\n",
       "    </tr>\n",
       "    <tr>\n",
       "      <th>null_count</th>\n",
       "      <td>0</td>\n",
       "      <td>0</td>\n",
       "      <td>0</td>\n",
       "      <td>0</td>\n",
       "      <td>0</td>\n",
       "      <td>0</td>\n",
       "      <td>0</td>\n",
       "    </tr>\n",
       "  </tbody>\n",
       "</table>\n",
       "</div>"
      ]
     },
     "metadata": {
      "application/vnd.databricks.v1+output": {
       "addedWidgets": {},
       "arguments": {},
       "data": "<div>\n<style scoped>\n    .dataframe tbody tr th:only-of-type {\n        vertical-align: middle;\n    }\n\n    .dataframe tbody tr th {\n        vertical-align: top;\n    }\n\n    .dataframe thead th {\n        text-align: right;\n    }\n</style>\n<table border=\"1\" class=\"dataframe\">\n  <thead>\n    <tr style=\"text-align: right;\">\n      <th></th>\n      <th>age</th>\n      <th>sex</th>\n      <th>bmi</th>\n      <th>children</th>\n      <th>smoker</th>\n      <th>region</th>\n      <th>charges</th>\n    </tr>\n    <tr>\n      <th>summary</th>\n      <th></th>\n      <th></th>\n      <th></th>\n      <th></th>\n      <th></th>\n      <th></th>\n      <th></th>\n    </tr>\n  </thead>\n  <tbody>\n    <tr>\n      <th>count</th>\n      <td>1338</td>\n      <td>1338</td>\n      <td>1338</td>\n      <td>1338</td>\n      <td>1338</td>\n      <td>1338</td>\n      <td>1338</td>\n    </tr>\n    <tr>\n      <th>mean</th>\n      <td>39.20702541106129</td>\n      <td>None</td>\n      <td>30.663396860986538</td>\n      <td>1.0949177877429</td>\n      <td>None</td>\n      <td>None</td>\n      <td>13270.422265141257</td>\n    </tr>\n    <tr>\n      <th>stddev</th>\n      <td>14.049960379216147</td>\n      <td>None</td>\n      <td>6.098186911679012</td>\n      <td>1.205492739781914</td>\n      <td>None</td>\n      <td>None</td>\n      <td>12110.011236693992</td>\n    </tr>\n    <tr>\n      <th>min</th>\n      <td>18</td>\n      <td>female</td>\n      <td>15.96</td>\n      <td>0</td>\n      <td>no</td>\n      <td>northeast</td>\n      <td>1121.8739</td>\n    </tr>\n    <tr>\n      <th>max</th>\n      <td>64</td>\n      <td>male</td>\n      <td>53.13</td>\n      <td>5</td>\n      <td>yes</td>\n      <td>southwest</td>\n      <td>63770.42801</td>\n    </tr>\n    <tr>\n      <th>null_count</th>\n      <td>0</td>\n      <td>0</td>\n      <td>0</td>\n      <td>0</td>\n      <td>0</td>\n      <td>0</td>\n      <td>0</td>\n    </tr>\n  </tbody>\n</table>\n</div>",
       "datasetInfos": [],
       "metadata": {},
       "removedWidgets": [],
       "textData": null,
       "type": "htmlSandbox"
      }
     },
     "output_type": "display_data"
    }
   ],
   "source": [
    "# have a summary dataframe that gives key descriptive statistics\n",
    "import pandas as pd\n",
    "null_list = [spark_df.where(spark_df[x].isNull()).count() for x in spark_df.columns] \n",
    "print(null_list)\n",
    "null_list.insert(0, 'null_count') # insert null-count at index 0\n",
    "print(null_list)\n",
    "null_list = pd.DataFrame(null_list).T # make null_count a pandas dataframe and transpose it\n",
    "null_list.columns = summary.columns\n",
    "summary = summary.append(null_list) # merge it w/ summary dataframe defned above\n",
    "summary.index = summary.summary\n",
    "summary = summary[spark_df.columns]\n",
    "summary"
   ]
  },
  {
   "cell_type": "markdown",
   "metadata": {
    "application/vnd.databricks.v1+cell": {
     "cellMetadata": {
      "byteLimit": 2048000,
      "rowLimit": 10000
     },
     "inputWidgets": {},
     "nuid": "616e9842-221a-4bce-855f-824772913282",
     "showTitle": false,
     "title": ""
    }
   },
   "source": [
    "#### 4. Determine Categorical and Numerical Variables\n",
    "This depends on business and doman knowledge. I will replace it w/ median for the sake of simplicity"
   ]
  },
  {
   "cell_type": "code",
   "execution_count": 0,
   "metadata": {
    "application/vnd.databricks.v1+cell": {
     "cellMetadata": {
      "byteLimit": 2048000,
      "rowLimit": 10000
     },
     "inputWidgets": {},
     "nuid": "494dc8d6-e4b8-43be-b39b-e7a17e6e463b",
     "showTitle": false,
     "title": ""
    }
   },
   "outputs": [
    {
     "output_type": "stream",
     "name": "stdout",
     "output_type": "stream",
     "text": [
      "Out[6]: [('age', 'int'),\n ('sex', 'string'),\n ('bmi', 'double'),\n ('children', 'string'),\n ('smoker', 'string'),\n ('region', 'string'),\n ('charges', 'double')]"
     ]
    }
   ],
   "source": [
    "from pyspark.sql.types import StringType\n",
    "spark_df = spark_df.withColumn('children', spark_df['children'].cast(StringType()))\n",
    "spark_df.dtypes"
   ]
  },
  {
   "cell_type": "code",
   "execution_count": 0,
   "metadata": {
    "application/vnd.databricks.v1+cell": {
     "cellMetadata": {
      "byteLimit": 2048000,
      "rowLimit": 10000
     },
     "inputWidgets": {},
     "nuid": "b2393582-cc58-4a01-a4ab-4154b19180b0",
     "showTitle": false,
     "title": ""
    }
   },
   "outputs": [
    {
     "output_type": "stream",
     "name": "stdout",
     "output_type": "stream",
     "text": [
      "Out[7]: ['children', 'region', 'smoker', 'sex']"
     ]
    }
   ],
   "source": [
    "# identify categorical variables\n",
    "dtypes = spark_df.dtypes # this will identify the data types of the variables in spark_df\n",
    "cat_input = [] # create an empty list\n",
    "for i in range(0, len(spark_df.columns)): #iterate over the variables\n",
    "  if dtypes[i][1] == 'string': # if dtype is string save it in the cat_input list\n",
    "    cat_input.append(dtypes[i][0])\n",
    "cat_input = list(set(cat_input)-set(target))\n",
    "cat_input"
   ]
  },
  {
   "cell_type": "code",
   "execution_count": 0,
   "metadata": {
    "application/vnd.databricks.v1+cell": {
     "cellMetadata": {
      "byteLimit": 2048000,
      "rowLimit": 10000
     },
     "inputWidgets": {},
     "nuid": "7d9c85db-d47a-4ab4-b297-98c8618bab3b",
     "showTitle": false,
     "title": ""
    }
   },
   "outputs": [
    {
     "output_type": "stream",
     "name": "stderr",
     "output_type": "stream",
     "text": [
      "/databricks/python/lib/python3.9/site-packages/seaborn/_decorators.py:36: FutureWarning: Pass the following variables as keyword args: x, y. From version 0.12, the only valid positional argument will be `data`, and passing other arguments without an explicit keyword will result in an error or misinterpretation.\n  warnings.warn(\n"
     ]
    },
    {
     "output_type": "display_data",
     "data": {
      "image/png": "[encoded data removed]"
     },
     "metadata": {
      "application/vnd.databricks.v1+output": {
       "addedWidgets": {},
       "arguments": {},
       "data": "data:image/png;base64,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\n",
       "datasetInfos": [],
       "metadata": {},
       "removedWidgets": [],
       "type": "image"
      }
     },
     "output_type": "display_data"
    },
    {
     "output_type": "display_data",
     "data": {
      "image/png": "[encoded data removed]"
     },
     "metadata": {
      "application/vnd.databricks.v1+output": {
       "addedWidgets": {},
       "arguments": {},
       "data": "data:image/png;base64,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\n",
       "datasetInfos": [],
       "metadata": {},
       "removedWidgets": [],
       "type": "image"
      }
     },
     "output_type": "display_data"
    }
   ],
   "source": [
    "# Residual vs. Fitted Plot\n",
    "import numpy as np # import numpy\n",
    "import seaborn as sns # import seaborn for data viz\n",
    "import matplotlib.pyplot as plt #import matplotlib for data viz\n",
    "sns.set(style=\"whitegrid\")\n",
    "fig, ax = plt.subplots() # create figure and axes\n",
    "x = np.asarray(df_r.select('prediction').toPandas()) # get the predicted sale price and save it as umpy array\n",
    "x = x.reshape(x.shape[0]) # reshape it\n",
    "y = np.asarray(summary.residuals.toPandas()) # get the residuals (actual - predicted)\n",
    "y = y.reshape(y.shape[0]) # reshape it\n",
    "\n",
    "# Plot the residuals after fitting a linear model (residuals vs predicted (fitted))\n",
    "sns.residplot(x, y, lowess=True, color=\"g\")\n",
    "ax.set_title('residual vs. fitted')\n",
    "ax.set(xlabel='fitted', ylabel='residuals')\n",
    "display(fig)"
   ]
  },
  {
   "cell_type": "code",
   "execution_count": 0,
   "metadata": {
    "application/vnd.databricks.v1+cell": {
     "cellMetadata": {
      "byteLimit": 2048000,
      "rowLimit": 10000
     },
     "inputWidgets": {},
     "nuid": "80fc52b6-64e4-4478-82d1-a7dee7295689",
     "showTitle": false,
     "title": ""
    }
   },
   "outputs": [
    {
     "output_type": "stream",
     "name": "stdout",
     "output_type": "stream",
     "text": [
      "Out[8]: ['age', 'bmi']"
     ]
    }
   ],
   "source": [
    "# numerical variables\n",
    "num_input = list(set(spark_df.columns) - set([target]) - set(cat_input)) # the difference of the categorical variables from all the variables will give us the numerical variables. \n",
    "num_input"
   ]
  },
  {
   "cell_type": "markdown",
   "metadata": {
    "application/vnd.databricks.v1+cell": {
     "cellMetadata": {
      "byteLimit": 2048000,
      "rowLimit": 10000
     },
     "inputWidgets": {},
     "nuid": "ecb4343a-3af1-44ae-bded-6b5c777ea8eb",
     "showTitle": false,
     "title": ""
    }
   },
   "source": [
    "#### 5. Create Custom Transformer for Imputation"
   ]
  },
  {
   "cell_type": "code",
   "execution_count": 0,
   "metadata": {
    "application/vnd.databricks.v1+cell": {
     "cellMetadata": {
      "byteLimit": 2048000,
      "rowLimit": 10000
     },
     "inputWidgets": {},
     "nuid": "ecf6807c-dbc6-4de4-a740-a2abbf63916f",
     "showTitle": false,
     "title": ""
    }
   },
   "outputs": [],
   "source": [
    "# impute missing values\n",
    "from pyspark.sql.types import DoubleType\n",
    "from pyspark import keyword_only  ## < 2.0 -> pyspark.ml.util.keyword_only\n",
    "from pyspark.ml import Transformer\n",
    "from pyspark.ml.param.shared import HasInputCol, HasOutputCol, Param\n",
    "from pyspark.sql.functions import udf\n",
    "from pyspark.sql.types import ArrayType, StringType\n",
    "from pyspark.sql.functions import col\n",
    "\n",
    "\n",
    "\n",
    "class NumericImputer(Transformer, HasInputCol, HasOutputCol): # replacing missing values in numerical columns\n",
    "\n",
    "    def __init__(self, inputCol=None, outputCol=None): # do not change this part at all when creating custom transformers\n",
    "        super(NumericImputer, self).__init__()  # do not change this part at all when creating custom transformers\n",
    "        self.setParams(inputCol = inputCol , outputCol = outputCol)  # do not change this part at all when creating custom transformers\n",
    "\n",
    "        \n",
    "    def setParams(self, inputCol=None, outputCol=None):  # do not change this part at all when creating custom transformers\n",
    "      return self._set(inputCol = inputCol, outputCol = outputCol)  # do not change this part at all when creating custom transformers\n",
    "        \n",
    "\n",
    "    def _transform(self, dataset):  # do not change this part at all when creating custom transformers\n",
    "\n",
    "      out_col = self.getOutputCol()  # do not change this part at all when creating custom transformers\n",
    "      in_col = self.getInputCol()  # do not change this part at all when creating custom transformers\n",
    "    \n",
    "      \n",
    "      \n",
    "      from pyspark.sql.functions import when  \n",
    "      from pyspark.sql.types import DoubleType\n",
    "      median_v = dataset.approxQuantile(in_col, [0.5], 0)[0] # compute median #dataset = dataset.fillna(median_v, subset=in_col)\n",
    "      return dataset.withColumn(out_col, when(col(in_col).isNull(), median_v).otherwise(col(in_col)).cast(DoubleType())) # replacing null values with median if the value is null otherwise keeping it as is"
   ]
  },
  {
   "cell_type": "code",
   "execution_count": 0,
   "metadata": {
    "application/vnd.databricks.v1+cell": {
     "cellMetadata": {
      "byteLimit": 2048000,
      "rowLimit": 10000
     },
     "inputWidgets": {},
     "nuid": "e9e6ef77-551b-435c-8663-1a70867f381b",
     "showTitle": false,
     "title": ""
    }
   },
   "outputs": [
    {
     "output_type": "stream",
     "name": "stdout",
     "output_type": "stream",
     "text": [
      "Out[10]: [NumericImputer_822175e12c69, NumericImputer_1aa3e59d5897]"
     ]
    }
   ],
   "source": [
    "numericimputers = [] # creating an empty list\n",
    "for column in num_input: # creating a list of numeric imputers each of which responsible for imputing a variable\n",
    "  numericimputers.append(NumericImputer(inputCol = column , outputCol = column))\n",
    "numericimputers"
   ]
  },
  {
   "cell_type": "markdown",
   "metadata": {
    "application/vnd.databricks.v1+cell": {
     "cellMetadata": {
      "byteLimit": 2048000,
      "rowLimit": 10000
     },
     "inputWidgets": {},
     "nuid": "f2cbbf3c-7eec-4724-adde-1ec7a3f73db4",
     "showTitle": false,
     "title": ""
    }
   },
   "source": [
    "#### 6. Create Custom Standardization"
   ]
  },
  {
   "cell_type": "code",
   "execution_count": 0,
   "metadata": {
    "application/vnd.databricks.v1+cell": {
     "cellMetadata": {
      "byteLimit": 2048000,
      "rowLimit": 10000
     },
     "inputWidgets": {},
     "nuid": "02540cf8-a6ca-4eba-a4a1-e928ea9b0d74",
     "showTitle": false,
     "title": ""
    }
   },
   "outputs": [],
   "source": [
    "# normalize a dataset\n",
    "from pyspark.sql.types import IntegerType\n",
    "from pyspark import keyword_only  ## < 2.0 -> pyspark.ml.util.keyword_only\n",
    "from pyspark.ml import Transformer\n",
    "from pyspark.ml.param.shared import HasInputCol, HasOutputCol, Param\n",
    "from pyspark.sql.functions import udf\n",
    "from pyspark.sql.types import ArrayType, StringType\n",
    "\n",
    "\n",
    "class Standardizer(Transformer, HasInputCol, HasOutputCol): # creating a standardizer class that will standardize columns (x-mean/3std)\n",
    "  \n",
    "    def __init__(self, inputCol=None, outputCol=None): # do not change this part at all when creating custom transformers\n",
    "        super(Standardizer, self).__init__() # do not change this part at all when creating custom transformers\n",
    "        self.setParams(inputCol = inputCol , outputCol = outputCol) # do not change this part at all when creating custom transformers\n",
    "\n",
    "        \n",
    "        \n",
    "    def setParams(self, inputCol=None, outputCol=None): # do not change this part at all when creating custom transformers\n",
    "      return self._set(inputCol = inputCol, outputCol = outputCol) # do not change this part at all when creating custom transformers\n",
    "        \n",
    "\n",
    "    def _transform(self, dataset): # do not change this part at all when creating custom transformers\n",
    "\n",
    "      out_col = self.getOutputCol()  # do not change this part at all when creating custom transformers\n",
    "      in_col = self.getInputCol()  # do not change this part at all when creating custom transformers\n",
    "      \n",
    "      from pyspark.sql.functions import stddev, mean, col \n",
    "      from pyspark.sql.types import DoubleType\n",
    "      from pyspark.sql.functions import udf\n",
    "\n",
    "      mean_ = dataset.select(mean(in_col)).first()[0] # compute mean\n",
    "      std_ = dataset.select(stddev(in_col)).first()[0] # compute stdev\n",
    "      udf_c =  udf(lambda x: (x-mean_)/std_, DoubleType()) # create a custom udf that will iteratre over a column and subtract the mean fom each value and divide the result by stdev\n",
    "      return dataset.withColumn(out_col, udf_c(dataset[in_col])) # standardize the variable and saves the variable as out_col\n",
    "    "
   ]
  },
  {
   "cell_type": "code",
   "execution_count": 0,
   "metadata": {
    "application/vnd.databricks.v1+cell": {
     "cellMetadata": {
      "byteLimit": 2048000,
      "rowLimit": 10000
     },
     "inputWidgets": {},
     "nuid": "e9ee0059-cc83-43be-973f-12d725a38038",
     "showTitle": false,
     "title": ""
    }
   },
   "outputs": [
    {
     "output_type": "stream",
     "name": "stdout",
     "output_type": "stream",
     "text": [
      "Out[12]: [Standardizer_c1a4233cf87b, Standardizer_af15baa2fb00]"
     ]
    }
   ],
   "source": [
    "standardizers = [] # creating an empty list\n",
    "for column in num_input: # creating a list of numeric imputers each of which responsible for imputing a variable\n",
    "  standardizers.append(Standardizer(inputCol = column, outputCol = column+\"_standardized\"))\n",
    "standardizers"
   ]
  },
  {
   "cell_type": "markdown",
   "metadata": {
    "application/vnd.databricks.v1+cell": {
     "cellMetadata": {
      "byteLimit": 2048000,
      "rowLimit": 10000
     },
     "inputWidgets": {},
     "nuid": "89e3ac80-5965-4a30-aa46-a4a10c800165",
     "showTitle": false,
     "title": ""
    }
   },
   "source": [
    "#### 7. Create Dummies (Convert Categorical Variables into 0-1 Dummy Variables)"
   ]
  },
  {
   "cell_type": "code",
   "execution_count": 0,
   "metadata": {
    "application/vnd.databricks.v1+cell": {
     "cellMetadata": {
      "byteLimit": 2048000,
      "rowLimit": 10000
     },
     "inputWidgets": {},
     "nuid": "9d71f438-b0ef-4be0-9fd7-788fd2b29163",
     "showTitle": false,
     "title": ""
    }
   },
   "outputs": [
    {
     "output_type": "stream",
     "name": "stdout",
     "output_type": "stream",
     "text": [
      "Out[13]: [OneHotEncoder_ebdb4b0a27bd,\n OneHotEncoder_5d3fe970830c,\n OneHotEncoder_063982061bab,\n OneHotEncoder_235f7912c777]"
     ]
    }
   ],
   "source": [
    "from pyspark.ml import Pipeline\n",
    "from pyspark.ml.feature import StringIndexer\n",
    "from pyspark.ml.feature import OneHotEncoder\n",
    "from pyspark.ml.feature import StandardScaler\n",
    "from pyspark.ml.linalg import Vectors\n",
    "from pyspark.ml.feature import VectorAssembler\n",
    "from pyspark.ml.regression import LinearRegression\n",
    "\n",
    "indexers = [StringIndexer(inputCol = column, outputCol = column+\"_index\") for column in cat_input] # this will first create indexers (it means it will number each category in a variable)\n",
    "encoders = [OneHotEncoder(inputCol = column+\"_index\", outputCol = column+\"_dummy\") for column in cat_input] # This will use the numbers to create the binary variables\n",
    "encoders"
   ]
  },
  {
   "cell_type": "markdown",
   "metadata": {
    "application/vnd.databricks.v1+cell": {
     "cellMetadata": {
      "byteLimit": 2048000,
      "rowLimit": 10000
     },
     "inputWidgets": {},
     "nuid": "6f85e397-2c10-4222-b172-a4c702c15215",
     "showTitle": false,
     "title": ""
    }
   },
   "source": [
    "#### 8. Determine Input Variables (Features)"
   ]
  },
  {
   "cell_type": "code",
   "execution_count": 0,
   "metadata": {
    "application/vnd.databricks.v1+cell": {
     "cellMetadata": {
      "byteLimit": 2048000,
      "rowLimit": 10000
     },
     "inputWidgets": {},
     "nuid": "ee94ec70-9669-4f6b-8e50-7cacc8ca16b4",
     "showTitle": false,
     "title": ""
    }
   },
   "outputs": [
    {
     "output_type": "stream",
     "name": "stdout",
     "output_type": "stream",
     "text": [
      "Out[14]: ['children_dummy',\n 'region_dummy',\n 'smoker_dummy',\n 'sex_dummy',\n 'age_standardized',\n 'bmi_standardized']"
     ]
    }
   ],
   "source": [
    "input_cols = [] # creates an empty list\n",
    "for i in cat_input: #iterates over categorical variables\n",
    "  input_cols.append(i+\"_dummy\") # saves the name of the dummy encoded categorical variables (they are not categorical now though)\n",
    "for i in num_input: # iterates over the numerical variables\n",
    "  input_cols.append(i+\"_standardized\") # saves the name of standardized numerical variables\n",
    "input_cols"
   ]
  },
  {
   "cell_type": "markdown",
   "metadata": {
    "application/vnd.databricks.v1+cell": {
     "cellMetadata": {
      "byteLimit": 2048000,
      "rowLimit": 10000
     },
     "inputWidgets": {},
     "nuid": "a431c048-a42f-4711-b5bc-c0f9bf9577ce",
     "showTitle": false,
     "title": ""
    }
   },
   "source": [
    "#### 9. Add more stages to the Pipeline"
   ]
  },
  {
   "cell_type": "code",
   "execution_count": 0,
   "metadata": {
    "application/vnd.databricks.v1+cell": {
     "cellMetadata": {
      "byteLimit": 2048000,
      "rowLimit": 10000
     },
     "inputWidgets": {},
     "nuid": "996cf4c4-755d-4b56-bdc1-25b3fd4fd55b",
     "showTitle": false,
     "title": ""
    }
   },
   "outputs": [],
   "source": [
    "assembler = VectorAssembler(inputCols= input_cols, outputCol=\"features\") # takes the input variables and saves it as a vector"
   ]
  },
  {
   "cell_type": "code",
   "execution_count": 0,
   "metadata": {
    "application/vnd.databricks.v1+cell": {
     "cellMetadata": {
      "byteLimit": 2048000,
      "rowLimit": 10000
     },
     "inputWidgets": {},
     "nuid": "fe660dbd-354b-42f6-9c11-af461b88ae47",
     "showTitle": false,
     "title": ""
    }
   },
   "outputs": [],
   "source": [
    "lr = LinearRegression(featuresCol = 'features', labelCol = target,maxIter=10, regParam=0.3, elasticNetParam=0.8) # this is designed the buiold a regression model using the target variable and the features vector which is a vector contaiing the input_variables (input_cols)"
   ]
  },
  {
   "cell_type": "markdown",
   "metadata": {
    "application/vnd.databricks.v1+cell": {
     "cellMetadata": {
      "byteLimit": 2048000,
      "rowLimit": 10000
     },
     "inputWidgets": {},
     "nuid": "bea9b2c3-664b-4a92-a213-3362a3cee211",
     "showTitle": false,
     "title": ""
    }
   },
   "source": [
    "#### 10. Combine the stages as a list"
   ]
  },
  {
   "cell_type": "code",
   "execution_count": 0,
   "metadata": {
    "application/vnd.databricks.v1+cell": {
     "cellMetadata": {
      "byteLimit": 2048000,
      "rowLimit": 10000
     },
     "inputWidgets": {},
     "nuid": "a4976225-639a-4b76-b665-1778e26504df",
     "showTitle": false,
     "title": ""
    }
   },
   "outputs": [
    {
     "output_type": "stream",
     "name": "stdout",
     "output_type": "stream",
     "text": [
      "Out[17]: [NumericImputer_822175e12c69,\n NumericImputer_1aa3e59d5897,\n StringIndexer_ac78d4e2039b,\n StringIndexer_04d30379e249,\n StringIndexer_476f9e82ae54,\n StringIndexer_9e2005e408fc,\n OneHotEncoder_ebdb4b0a27bd,\n OneHotEncoder_5d3fe970830c,\n OneHotEncoder_063982061bab,\n OneHotEncoder_235f7912c777,\n Standardizer_c1a4233cf87b,\n Standardizer_af15baa2fb00,\n VectorAssembler_74729ebf1c92,\n LinearRegression_b13ca82feb64]"
     ]
    }
   ],
   "source": [
    "import functools \n",
    "import operator\n",
    "stages = [] # creates an empty list\n",
    "stages = functools.reduce(operator.concat, [numericimputers, indexers, encoders, standardizers]) # it will combine the pipeline elements such as numeric imputers, indexers, etc.\n",
    "stages.append(assembler) #it will add the assembler stage\n",
    "stages.append(lr) # it will add the linear regression stage\n",
    "stages"
   ]
  },
  {
   "cell_type": "code",
   "execution_count": 0,
   "metadata": {
    "application/vnd.databricks.v1+cell": {
     "cellMetadata": {
      "byteLimit": 2048000,
      "rowLimit": 10000
     },
     "inputWidgets": {},
     "nuid": "889ca64c-1717-425d-a766-0d5e5f852ff7",
     "showTitle": false,
     "title": ""
    }
   },
   "outputs": [],
   "source": [
    "# First missing values will be imputed, then categorical variables will be dummy encoded, then numerical variables will be standardized, then input variables will be saved as a vector, and finally, a linear regression model will be built based on the stages given above. "
   ]
  },
  {
   "cell_type": "markdown",
   "metadata": {
    "application/vnd.databricks.v1+cell": {
     "cellMetadata": {
      "byteLimit": 2048000,
      "rowLimit": 10000
     },
     "inputWidgets": {},
     "nuid": "febe674a-5110-4c99-8704-1af01724c8a8",
     "showTitle": false,
     "title": ""
    }
   },
   "source": [
    "#### 11. Run The Pipeline"
   ]
  },
  {
   "cell_type": "code",
   "execution_count": 0,
   "metadata": {
    "application/vnd.databricks.v1+cell": {
     "cellMetadata": {
      "byteLimit": 2048000,
      "rowLimit": 10000
     },
     "inputWidgets": {},
     "nuid": "906dfb03-0711-4c3c-bf36-50341bafc78e",
     "showTitle": false,
     "title": ""
    }
   },
   "outputs": [],
   "source": [
    "# RUN THE PIPELINE\n",
    "pipeline = Pipeline(stages=stages) # creates the pipeline object\n",
    "df_r = pipeline.fit(spark_df).transform(spark_df) # runs the pipeline and saves the result in df_r"
   ]
  },
  {
   "cell_type": "markdown",
   "metadata": {
    "application/vnd.databricks.v1+cell": {
     "cellMetadata": {
      "byteLimit": 2048000,
      "rowLimit": 10000
     },
     "inputWidgets": {},
     "nuid": "c7ef513f-a6d9-4d46-9d4c-7b038563fa70",
     "showTitle": false,
     "title": ""
    }
   },
   "source": [
    "#### 12. Evaluate Performance"
   ]
  },
  {
   "cell_type": "code",
   "execution_count": 0,
   "metadata": {
    "application/vnd.databricks.v1+cell": {
     "cellMetadata": {
      "byteLimit": 2048000,
      "rowLimit": 10000
     },
     "inputWidgets": {},
     "nuid": "e39c9d08-4571-49e1-8275-2c94866207f0",
     "showTitle": false,
     "title": ""
    }
   },
   "outputs": [
    {
     "output_type": "stream",
     "name": "stdout",
     "output_type": "stream",
     "text": [
      "0.7519186168172595\n"
     ]
    }
   ],
   "source": [
    "# Computes R square\n",
    "from pyspark.sql import functions as F\n",
    "from pyspark.sql.functions import pow\n",
    "mean_y = df_r.select(F.mean('charges')).collect().pop()[0] # computes the average sale price\n",
    "mean_y\n",
    "df_r = df_r.withColumn('mean_Y*sq', pow(df_r['charges']-mean_y, 2)) # subtracts the mean sale price from sale price, squares it, and saves it as mean_Y*sq\n",
    "df_r = df_r.withColumn('Y-Yhat*sq', pow(df_r['charges']-df_r['prediction'], 2)) # subtract the predicted sale price from actual sale price, squares it, and saves it as  Y-Yhat*sq\n",
    "R_sq = 1-df_r.agg(F.sum(df_r['Y-Yhat*sq'])).collect().pop()[0]/df_r.agg(F.sum(df_r['mean_Y*sq'])).collect().pop()[0] # divides the sum of mean_Y*sy by the sum of Y_Yhat*sq and subtract it from 1. \n",
    "print(R_sq)"
   ]
  },
  {
   "cell_type": "code",
   "execution_count": 0,
   "metadata": {
    "application/vnd.databricks.v1+cell": {
     "cellMetadata": {
      "byteLimit": 2048000,
      "rowLimit": 10000
     },
     "inputWidgets": {},
     "nuid": "bd9877d0-4b19-4200-b117-b79ca4affcf1",
     "showTitle": false,
     "title": ""
    }
   },
   "outputs": [
    {
     "output_type": "stream",
     "name": "stdout",
     "output_type": "stream",
     "text": [
      "numIterations: 10\nRMSE: 6029.471968\nr2: 0.751919\nobjectiveHistory: [0.4999999999999999, 0.41349831900553236, 0.1953614053613003, 0.12490486180796827, 0.12453404590840936, 0.12421774911462827, 0.1241432875327263, 0.12410639318118225, 0.12407529144463333, 0.12407207474017903, 0.12407137485791114]\n"
     ]
    }
   ],
   "source": [
    "# Computes r square in an easier way using spark's functions\n",
    "summary = pipeline.fit(spark_df).stages[-1].summary # after fitting the pipeline we get the model summary of the last stage which is linear regression\n",
    "print(\"numIterations: %d\" % summary.totalIterations)\n",
    "print(\"RMSE: %f\" % summary.rootMeanSquaredError)\n",
    "print(\"r2: %f\" % summary.r2)\n",
    "print(\"objectiveHistory: %s\" % str(summary.objectiveHistory))\n",
    "#summary.residuals.show()"
   ]
  }
 ],
 "metadata": {
  "application/vnd.databricks.v1+notebook": {
   "dashboards": [],
   "environmentMetadata": null,
   "language": "python",
   "notebookMetadata": {
    "pythonIndentUnit": 2
   },
   "notebookName": "Dharnesh Term_project",
   "widgets": {}
  }
 },
 "nbformat": 4,
 "nbformat_minor": 0
}
